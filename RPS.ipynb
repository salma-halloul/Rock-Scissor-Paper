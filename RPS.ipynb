{
 "cells": [
  {
   "cell_type": "code",
   "execution_count": null,
   "metadata": {},
   "outputs": [],
   "source": [
    "import numpy as np"
   ]
  },
  {
   "cell_type": "code",
   "execution_count": 1,
   "metadata": {},
   "outputs": [],
   "source": [
    "def RPS() :\n",
    "    p1=np.random.choice(['R','P','S'])\n",
    "    p2=np.random.choice(['R','P','S'])\n",
    "    if((p1=='R'and p2=='S')or(p1=='S'and p2=='P')or(p1=='P'and p2=='R') ):\n",
    "        return 1\n",
    "    elif p1==p2:\n",
    "        return 0\n",
    "    else: \n",
    "        return 2        "
   ]
  },
  {
   "cell_type": "code",
   "execution_count": 4,
   "metadata": {},
   "outputs": [
    {
     "ename": "NameError",
     "evalue": "name 'np' is not defined",
     "output_type": "error",
     "traceback": [
      "\u001b[1;31m---------------------------------------------------------------------------\u001b[0m",
      "\u001b[1;31mNameError\u001b[0m                                 Traceback (most recent call last)",
      "Cell \u001b[1;32mIn[4], line 2\u001b[0m\n\u001b[0;32m      1\u001b[0m \u001b[39mfor\u001b[39;00m i \u001b[39min\u001b[39;00m \u001b[39mrange\u001b[39m (\u001b[39m15\u001b[39m):\n\u001b[1;32m----> 2\u001b[0m     res\u001b[39m=\u001b[39mRPS()\n\u001b[0;32m      3\u001b[0m     \u001b[39mif\u001b[39;00m(res\u001b[39m==\u001b[39m\u001b[39m1\u001b[39m):\n\u001b[0;32m      4\u001b[0m         \u001b[39mprint\u001b[39m(\u001b[39m\"\u001b[39m\u001b[39mp1 est le gagnant\u001b[39m\u001b[39m\"\u001b[39m)\n",
      "Cell \u001b[1;32mIn[1], line 2\u001b[0m, in \u001b[0;36mRPS\u001b[1;34m()\u001b[0m\n\u001b[0;32m      1\u001b[0m \u001b[39mdef\u001b[39;00m \u001b[39mRPS\u001b[39m() :\n\u001b[1;32m----> 2\u001b[0m     p1\u001b[39m=\u001b[39mnp\u001b[39m.\u001b[39mrandom\u001b[39m.\u001b[39mchoice([\u001b[39m'\u001b[39m\u001b[39mR\u001b[39m\u001b[39m'\u001b[39m,\u001b[39m'\u001b[39m\u001b[39mP\u001b[39m\u001b[39m'\u001b[39m,\u001b[39m'\u001b[39m\u001b[39mS\u001b[39m\u001b[39m'\u001b[39m])\n\u001b[0;32m      3\u001b[0m     p2\u001b[39m=\u001b[39mnp\u001b[39m.\u001b[39mrandom\u001b[39m.\u001b[39mchoice([\u001b[39m'\u001b[39m\u001b[39mR\u001b[39m\u001b[39m'\u001b[39m,\u001b[39m'\u001b[39m\u001b[39mP\u001b[39m\u001b[39m'\u001b[39m,\u001b[39m'\u001b[39m\u001b[39mS\u001b[39m\u001b[39m'\u001b[39m])\n\u001b[0;32m      4\u001b[0m     \u001b[39mif\u001b[39;00m((p1\u001b[39m==\u001b[39m\u001b[39m'\u001b[39m\u001b[39mR\u001b[39m\u001b[39m'\u001b[39m\u001b[39mand\u001b[39;00m p2\u001b[39m==\u001b[39m\u001b[39m'\u001b[39m\u001b[39mS\u001b[39m\u001b[39m'\u001b[39m)\u001b[39mor\u001b[39;00m(p1\u001b[39m==\u001b[39m\u001b[39m'\u001b[39m\u001b[39mS\u001b[39m\u001b[39m'\u001b[39m\u001b[39mand\u001b[39;00m p2\u001b[39m==\u001b[39m\u001b[39m'\u001b[39m\u001b[39mP\u001b[39m\u001b[39m'\u001b[39m)\u001b[39mor\u001b[39;00m(p1\u001b[39m==\u001b[39m\u001b[39m'\u001b[39m\u001b[39mP\u001b[39m\u001b[39m'\u001b[39m\u001b[39mand\u001b[39;00m p2\u001b[39m==\u001b[39m\u001b[39m'\u001b[39m\u001b[39mR\u001b[39m\u001b[39m'\u001b[39m) ):\n",
      "\u001b[1;31mNameError\u001b[0m: name 'np' is not defined"
     ]
    }
   ],
   "source": [
    "for i in range (15):\n",
    "    res=RPS()\n",
    "    if(res==1):\n",
    "        print(\"p1 est le gagnant\")\n",
    "    elif (res==2):\n",
    "        print(\"p2 est le gagnant\")  \n",
    "    else:\n",
    "        print(\"Aucun gagnant\")    "
   ]
  },
  {
   "cell_type": "code",
   "execution_count": 3,
   "metadata": {},
   "outputs": [
    {
     "ename": "NameError",
     "evalue": "name 'np' is not defined",
     "output_type": "error",
     "traceback": [
      "\u001b[1;31m---------------------------------------------------------------------------\u001b[0m",
      "\u001b[1;31mNameError\u001b[0m                                 Traceback (most recent call last)",
      "Cell \u001b[1;32mIn[3], line 2\u001b[0m\n\u001b[0;32m      1\u001b[0m n\u001b[39m=\u001b[39m\u001b[39m1000\u001b[39m\n\u001b[1;32m----> 2\u001b[0m l\u001b[39m=\u001b[39m[RPS()\u001b[39mfor\u001b[39;00m k \u001b[39min\u001b[39;00m \u001b[39mrange\u001b[39m(n)]\n\u001b[0;32m      3\u001b[0m p1\u001b[39m=\u001b[39m(l\u001b[39m.\u001b[39mcount(\u001b[39m1\u001b[39m)\u001b[39m/\u001b[39mn)\u001b[39m*\u001b[39m\u001b[39m100\u001b[39m\n\u001b[0;32m      4\u001b[0m p2\u001b[39m=\u001b[39m(l\u001b[39m.\u001b[39mcount(\u001b[39m2\u001b[39m)\u001b[39m/\u001b[39mn)\u001b[39m*\u001b[39m\u001b[39m100\u001b[39m\n",
      "Cell \u001b[1;32mIn[3], line 2\u001b[0m, in \u001b[0;36m<listcomp>\u001b[1;34m(.0)\u001b[0m\n\u001b[0;32m      1\u001b[0m n\u001b[39m=\u001b[39m\u001b[39m1000\u001b[39m\n\u001b[1;32m----> 2\u001b[0m l\u001b[39m=\u001b[39m[RPS()\u001b[39mfor\u001b[39;00m k \u001b[39min\u001b[39;00m \u001b[39mrange\u001b[39m(n)]\n\u001b[0;32m      3\u001b[0m p1\u001b[39m=\u001b[39m(l\u001b[39m.\u001b[39mcount(\u001b[39m1\u001b[39m)\u001b[39m/\u001b[39mn)\u001b[39m*\u001b[39m\u001b[39m100\u001b[39m\n\u001b[0;32m      4\u001b[0m p2\u001b[39m=\u001b[39m(l\u001b[39m.\u001b[39mcount(\u001b[39m2\u001b[39m)\u001b[39m/\u001b[39mn)\u001b[39m*\u001b[39m\u001b[39m100\u001b[39m\n",
      "Cell \u001b[1;32mIn[1], line 2\u001b[0m, in \u001b[0;36mRPS\u001b[1;34m()\u001b[0m\n\u001b[0;32m      1\u001b[0m \u001b[39mdef\u001b[39;00m \u001b[39mRPS\u001b[39m() :\n\u001b[1;32m----> 2\u001b[0m     p1\u001b[39m=\u001b[39mnp\u001b[39m.\u001b[39mrandom\u001b[39m.\u001b[39mchoice([\u001b[39m'\u001b[39m\u001b[39mR\u001b[39m\u001b[39m'\u001b[39m,\u001b[39m'\u001b[39m\u001b[39mP\u001b[39m\u001b[39m'\u001b[39m,\u001b[39m'\u001b[39m\u001b[39mS\u001b[39m\u001b[39m'\u001b[39m])\n\u001b[0;32m      3\u001b[0m     p2\u001b[39m=\u001b[39mnp\u001b[39m.\u001b[39mrandom\u001b[39m.\u001b[39mchoice([\u001b[39m'\u001b[39m\u001b[39mR\u001b[39m\u001b[39m'\u001b[39m,\u001b[39m'\u001b[39m\u001b[39mP\u001b[39m\u001b[39m'\u001b[39m,\u001b[39m'\u001b[39m\u001b[39mS\u001b[39m\u001b[39m'\u001b[39m])\n\u001b[0;32m      4\u001b[0m     \u001b[39mif\u001b[39;00m((p1\u001b[39m==\u001b[39m\u001b[39m'\u001b[39m\u001b[39mR\u001b[39m\u001b[39m'\u001b[39m\u001b[39mand\u001b[39;00m p2\u001b[39m==\u001b[39m\u001b[39m'\u001b[39m\u001b[39mS\u001b[39m\u001b[39m'\u001b[39m)\u001b[39mor\u001b[39;00m(p1\u001b[39m==\u001b[39m\u001b[39m'\u001b[39m\u001b[39mS\u001b[39m\u001b[39m'\u001b[39m\u001b[39mand\u001b[39;00m p2\u001b[39m==\u001b[39m\u001b[39m'\u001b[39m\u001b[39mP\u001b[39m\u001b[39m'\u001b[39m)\u001b[39mor\u001b[39;00m(p1\u001b[39m==\u001b[39m\u001b[39m'\u001b[39m\u001b[39mP\u001b[39m\u001b[39m'\u001b[39m\u001b[39mand\u001b[39;00m p2\u001b[39m==\u001b[39m\u001b[39m'\u001b[39m\u001b[39mR\u001b[39m\u001b[39m'\u001b[39m) ):\n",
      "\u001b[1;31mNameError\u001b[0m: name 'np' is not defined"
     ]
    }
   ],
   "source": [
    "n=1000\n",
    "l=[RPS()for k in range(n)]\n",
    "p1=(l.count(1)/n)*100\n",
    "p2=(l.count(2)/n)*100\n",
    "px=(l.count(0)/n)*100\n",
    "print(f'%p1 gagne={p1},%p2 gagne={p2}, %matchnul={px}')\n",
    "\n",
    "\n"
   ]
  }
 ],
 "metadata": {
  "kernelspec": {
   "display_name": "Python 3",
   "language": "python",
   "name": "python3"
  },
  "language_info": {
   "codemirror_mode": {
    "name": "ipython",
    "version": 3
   },
   "file_extension": ".py",
   "mimetype": "text/x-python",
   "name": "python",
   "nbconvert_exporter": "python",
   "pygments_lexer": "ipython3",
   "version": "3.10.4"
  },
  "orig_nbformat": 4,
  "vscode": {
   "interpreter": {
    "hash": "a9cff5a362bc38ef45d817ae74b1af54d6a076e3d773891282bce078b815ba34"
   }
  }
 },
 "nbformat": 4,
 "nbformat_minor": 2
}
