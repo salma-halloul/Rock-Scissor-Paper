{
 "cells": [
  {
   "cell_type": "code",
   "execution_count": null,
   "metadata": {},
   "outputs": [],
   "source": [
    "import numpy as np"
   ]
  },
  {
   "cell_type": "code",
   "execution_count": null,
   "metadata": {},
   "outputs": [],
   "source": [
    "def RPS() :\n",
    "    p1=np.random.choice(['R','P','S'])\n",
    "    p2=np.random.choice(['R','P','S'])\n",
    "    if((p1=='R'and p2=='S')or(p1=='S'and p2=='P')or(p1=='P'and p2=='R') ):\n",
    "        return 1\n",
    "    elif p1==p2:\n",
    "        return 0\n",
    "    else: \n",
    "        return 2        "
   ]
  },
  {
   "cell_type": "code",
   "execution_count": null,
   "metadata": {},
   "outputs": [],
   "source": [
    "for i in range (15):\n",
    "    res=RPS()\n",
    "    if(res==1):\n",
    "        print(\"p1 est le gagnant\")\n",
    "    elif (res==2):\n",
    "        print(\"p2 est le gagnant\")  \n",
    "    else:\n",
    "        print(\"Aucun gagnant\")    "
   ]
  }
 ],
 "metadata": {
  "kernelspec": {
   "display_name": "Python 3",
   "language": "python",
   "name": "python3"
  },
  "language_info": {
   "name": "python",
   "version": "3.10.4 (tags/v3.10.4:9d38120, Mar 23 2022, 23:13:41) [MSC v.1929 64 bit (AMD64)]"
  },
  "orig_nbformat": 4,
  "vscode": {
   "interpreter": {
    "hash": "a9cff5a362bc38ef45d817ae74b1af54d6a076e3d773891282bce078b815ba34"
   }
  }
 },
 "nbformat": 4,
 "nbformat_minor": 2
}
