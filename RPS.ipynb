{
 "cells": [
  {
   "cell_type": "code",
   "execution_count": null,
   "metadata": {},
   "outputs": [],
   "source": [
    "import numpy as np"
   ]
  },
  {
   "cell_type": "code",
   "execution_count": null,
   "metadata": {},
   "outputs": [],
   "source": [
    "def RPS() :\n",
    "    p1=np.random.choice(['R','P','S'])\n",
    "    p2=np.random.choice(['R','P','S'])\n",
    "    if((p1=='R'and p2=='S')or(p1=='S'and p2=='P')or(p1=='P'and p2=='R') ):\n",
    "        return 1\n",
    "    elif p1==p2:\n",
    "        return 0\n",
    "    else: \n",
    "        return 2"
   ]
  },
  {
   "cell_type": "code",
   "execution_count": null,
   "metadata": {},
   "outputs": [],
   "source": [
    "for i in range (15):\n",
    "    res=RPS()\n",
    "    if(res==1):\n",
    "        print(\"p1 est le gagnant\")\n",
    "    elif (res==2):\n",
    "        print(\"p2 est le gagnant\")  \n",
    "    else:\n",
    "        print(\"Aucun gagnant\")   "
   ]
  },
  {
   "cell_type": "code",
   "execution_count": null,
   "metadata": {},
   "outputs": [],
   "source": [
    "n=1000\n",
    "l=[RPS()for k in range(n)]\n",
    "p1=(l.count(1)/n)*100\n",
    "p2=(l.count(2)/n)*100\n",
    "px=(l.count(0)/n)*100\n",
    "print(f'%p1 gagne={p1},%p2 gagne={p2}, %matchnul={px}')"
   ]
  }
 ],
 "metadata": {
  "language_info": {
   "name": "python"
  },
  "orig_nbformat": 4
 },
 "nbformat": 4,
 "nbformat_minor": 2
}
